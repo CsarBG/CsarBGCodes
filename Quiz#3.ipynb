{
 "cells": [
  {
   "cell_type": "code",
   "execution_count": 21,
   "metadata": {
    "scrolled": true
   },
   "outputs": [
    {
     "name": "stdout",
     "output_type": "stream",
     "text": [
      "How much data do you want to indtroduce? 3\n",
      "\n",
      "Inputs:\n",
      "Introduce the input number 1: 12\n",
      "Introduce the input number 2: 23\n",
      "Introduce the input number 3: 34\n",
      "\n",
      "Outputs:\n",
      "Introduce the output number 1: 56\n",
      "Introduce the output number 2: 67\n",
      "Introduce the output number 3: 9\n",
      "\n",
      "This is your x sample:\n",
      "12 23 34 \n",
      "\n",
      "This is your y sample:\n",
      "56 67 9 \n",
      "\n",
      "Y=-2.1363636363636362x+93.13636363636363\n"
     ]
    }
   ],
   "source": [
    "val=int(input(\"How much data do you want to indtroduce? \"))\n",
    "dx=[]\n",
    "dy=[]\n",
    "tx=0\n",
    "ty=0\n",
    "tm=0\n",
    "tc=0\n",
    "print(\"\\nInputs:\")\n",
    "for i in range (0,val):\n",
    "    x=int(input(f\"Introduce the input number {i+1}: \"))\n",
    "    dx.append(x)\n",
    "    tx+=x\n",
    "    tc+=(x*x)\n",
    "print(\"\\nOutputs:\")\n",
    "for i in range (0,val):\n",
    "    y=int(input(f\"Introduce the output number {i+1}: \"))\n",
    "    dy.append(y)\n",
    "    ty+=y\n",
    "print(\"\\nThis is your x sample:\")\n",
    "for i in range (0,val):\n",
    "    print(f\"{dx[i]}\", end=' ')\n",
    "print(\"\\n\\nThis is your y sample:\")\n",
    "for i in range (0,val):\n",
    "    print(f\"{dy[i]}\", end=' ')   \n",
    "for i in range (0,val):\n",
    "    tm+=(dx[i]*dy[i])\n",
    "b1=((val*tm)-(tx*ty))/((val*tc)-(tx*tx))\n",
    "b0=((ty-(b1*tx))/val)\n",
    "print(f\"\\n\\nY={b1}x+{b0}\")"
   ]
  },
  {
   "cell_type": "code",
   "execution_count": null,
   "metadata": {},
   "outputs": [],
   "source": []
  }
 ],
 "metadata": {
  "kernelspec": {
   "display_name": "Python 3",
   "language": "python",
   "name": "python3"
  },
  "language_info": {
   "codemirror_mode": {
    "name": "ipython",
    "version": 3
   },
   "file_extension": ".py",
   "mimetype": "text/x-python",
   "name": "python",
   "nbconvert_exporter": "python",
   "pygments_lexer": "ipython3",
   "version": "3.7.4"
  }
 },
 "nbformat": 4,
 "nbformat_minor": 2
}
