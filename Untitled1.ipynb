{
 "cells": [
  {
   "cell_type": "code",
   "execution_count": 14,
   "metadata": {},
   "outputs": [
    {
     "name": "stdout",
     "output_type": "stream",
     "text": [
      "How much names do you want to introduce? Ans: 3\n",
      "\n",
      "\n",
      "Write the name number 0: Diego\n",
      "Write the name number 1: Erick\n",
      "Write the name number 2: César\n",
      "\n",
      "This is your sample:\n",
      "Diego Erick César \n",
      "\n",
      "What name do you want to see? Ans: 2\n",
      "César\n"
     ]
    }
   ],
   "source": [
    "val=int(input(\"How much names do you want to introduce? Ans: \"))\n",
    "names=[]\n",
    "for i in range (0,val):\n",
    "    x=str(input(f\"Write the name number {i}: \"))\n",
    "    names.append(x)\n",
    "print(\"\\nThis is your sample:\")\n",
    "for i in names:\n",
    "    print(i, end=' ')\n",
    "print(\"\\n\")\n",
    "val=int(input(f\"What name do you want to see? Ans: \"))\n",
    "print(names[val])"
   ]
  },
  {
   "cell_type": "code",
   "execution_count": null,
   "metadata": {},
   "outputs": [],
   "source": []
  },
  {
   "cell_type": "code",
   "execution_count": null,
   "metadata": {},
   "outputs": [],
   "source": []
  }
 ],
 "metadata": {
  "kernelspec": {
   "display_name": "Python 3",
   "language": "python",
   "name": "python3"
  },
  "language_info": {
   "codemirror_mode": {
    "name": "ipython",
    "version": 3
   },
   "file_extension": ".py",
   "mimetype": "text/x-python",
   "name": "python",
   "nbconvert_exporter": "python",
   "pygments_lexer": "ipython3",
   "version": "3.7.4"
  }
 },
 "nbformat": 4,
 "nbformat_minor": 2
}
