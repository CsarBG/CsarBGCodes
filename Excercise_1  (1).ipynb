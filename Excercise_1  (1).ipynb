{
 "cells": [
  {
   "cell_type": "markdown",
   "metadata": {},
   "source": [
    "## Exercise 1 \n",
    "\n",
    "Write a program that ask for the age of three students and return the sample mean"
   ]
  },
  {
   "cell_type": "code",
   "execution_count": null,
   "metadata": {},
   "outputs": [],
   "source": [
    "print (\"What is the name of the Student?\", end = ' ')\n",
    "Student_1 = input ()\n",
    "Age_1= int(input(\"how old is the student? \"))\n",
    "\n",
    "print (\"\\nName of the second student? \", end = ' ')\n",
    "Student_2= input ()\n",
    "Age_2 = int(input(\"How old is the student? \"))\n",
    "\n",
    "print (\"\\nName of the last student? \", end = ' ')\n",
    "Student_3= input ()\n",
    "Age_3= int(input(\"How old is the student?\" ))\n",
    "\n",
    "print (f\"\\nAdittion of the students ages= {Age_1+Age_2+Age_3}\")\n",
    "Total_Age= Age_1+Age_2+Age_3\n",
    "print (f\"\\nSample mean= {Total_Age/3}\")"
   ]
  },
  {
   "cell_type": "markdown",
   "metadata": {},
   "source": [
    "Thanks to the function (end ='') we are able to establish a \"conversation\" with the program, here we can establish some parameters that the program will follow and determine what we establish in it (such as operations, names, labels, actions, etc.).  \n",
    "\n",
    "The int(input) tool let us set an integer value besides some text or dialogue to show when the programm is running. "
   ]
  }
 ],
 "metadata": {
  "kernelspec": {
   "display_name": "Python 3",
   "language": "python",
   "name": "python3"
  },
  "language_info": {
   "codemirror_mode": {
    "name": "ipython",
    "version": 3
   },
   "file_extension": ".py",
   "mimetype": "text/x-python",
   "name": "python",
   "nbconvert_exporter": "python",
   "pygments_lexer": "ipython3",
   "version": "3.7.4"
  }
 },
 "nbformat": 4,
 "nbformat_minor": 2
}
