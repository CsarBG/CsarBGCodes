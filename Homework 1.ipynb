{
 "cells": [
  {
   "cell_type": "markdown",
   "metadata": {},
   "source": [
    "## Universidad Tecnologica de Altamira "
   ]
  },
  {
   "cell_type": "markdown",
   "metadata": {},
   "source": [
    "![UTALTAMIRA](https://encrypted-tbn0.gstatic.com/images?q=tbn%3AANd9GcRMt7W1LkzTSnkTYf4nDWTQLICe86mIkmFw5I8kaeF4SvXO_Yul)"
   ]
  },
  {
   "cell_type": "markdown",
   "metadata": {},
   "source": [
    "# Homework 1\n",
    "## Excercise 1"
   ]
  },
  {
   "cell_type": "markdown",
   "metadata": {},
   "source": [
    "With this command we can indicate to the machine what to print, in this case a greetings and expressions. "
   ]
  },
  {
   "cell_type": "code",
   "execution_count": 11,
   "metadata": {},
   "outputs": [
    {
     "name": "stdout",
     "output_type": "stream",
     "text": [
      "Hi good evening\n",
      "I love being alive\n",
      "Anaconda is the best way to learn programming!!\n",
      "I can do this all day\n",
      "Yayyyyy!!!!!\n",
      "I dunno what else type...\n"
     ]
    }
   ],
   "source": [
    "print ('Hi good evening')\n",
    "print ('I love being alive')\n",
    "print ('Anaconda is the best way to learn programming!!')\n",
    "print ('I can do this all day')\n",
    "print ('Yayyyyy!!!!!')\n",
    "print ('I dunno what else type...')"
   ]
  },
  {
   "cell_type": "markdown",
   "metadata": {},
   "source": [
    "## Excersice 2"
   ]
  },
  {
   "cell_type": "markdown",
   "metadata": {},
   "source": [
    "The ''#'' sign is very usefull, with it you can type what is the use or explain some part of the programm without interferring it or use too much space when you run it."
   ]
  },
  {
   "cell_type": "code",
   "execution_count": 13,
   "metadata": {},
   "outputs": [
    {
     "name": "stdout",
     "output_type": "stream",
     "text": [
      "So start practicing without any doubts\n",
      "All of us start just like you do not worry\n",
      "Take it easy yo can do it, do not be afraid to try\n"
     ]
    }
   ],
   "source": [
    "# I want to learn a lot of ways to program \n",
    "print ('So start practicing without any doubts')\n",
    "# And if I don't know were to start \n",
    "print ('All of us start just like you do not worry')\n",
    "# But if I get stuck or lost??\n",
    "print ('Take it easy yo can do it, do not be afraid to try')"
   ]
  },
  {
   "cell_type": "markdown",
   "metadata": {},
   "source": [
    "## Excersice 3"
   ]
  },
  {
   "cell_type": "markdown",
   "metadata": {},
   "source": [
    "Using the math symbols we can do almost all kind of operations with the help of the program, this is a very usefull tool if we need to do a lot of calculations in a very short lapse of time."
   ]
  },
  {
   "cell_type": "code",
   "execution_count": 25,
   "metadata": {},
   "outputs": [
    {
     "name": "stdout",
     "output_type": "stream",
     "text": [
      "Marco is trying to know what will be the total cost of the material for the last proyect \n",
      "He only has 550\n",
      "The total cost for all the material will be 103.33333333333334\n",
      "Is it true that he can pay all the cost without problem??\n",
      "446.66666666666663\n",
      "yes, of course he will be able to pay the material with no problems\n"
     ]
    }
   ],
   "source": [
    "print ('Marco is trying to know what will be the total cost of the material for the last proyect ')\n",
    "print ('He only has', 250+300) \n",
    "print ('The total cost for all the material will be', 1200/90*4+50+40%5)\n",
    "print ('Is it true that he can pay all the cost without problem??')\n",
    "print (550-103.33333333333334)\n",
    "print ('yes, of course he will be able to pay the material with no problems')"
   ]
  },
  {
   "cell_type": "markdown",
   "metadata": {},
   "source": [
    "## Excersice 4"
   ]
  },
  {
   "cell_type": "markdown",
   "metadata": {},
   "source": [
    "Declaring variables is very usefull when you need to save time typing a lot of numbers,operations or calculus. This shortcut let us call the declared variable when we need it instead of typing all again."
   ]
  },
  {
   "cell_type": "code",
   "execution_count": 28,
   "metadata": {},
   "outputs": [
    {
     "name": "stdout",
     "output_type": "stream",
     "text": [
      "Right now we have 400 available\n",
      "There is an amount of 10000 all around the globe\n",
      "At this moment 1549 are playing the game\n",
      "There are 8451 free places for new players\n",
      "We still have 290 in the storage\n",
      "we have already sold 110\n",
      "luckly we still have some free passes to share the existance of the game 140\n"
     ]
    }
   ],
   "source": [
    "Games=400\n",
    "Players=10000\n",
    "Players_playing_at_this_moment=1549\n",
    "Available_spaces_to_play=10000-1549\n",
    "Games_in_stock=290\n",
    "Sold_games=400-290\n",
    "Free_passes=40+50*2\n",
    "\n",
    "\n",
    "print ('Right now we have',Games,'available')\n",
    "print ('There is an amount of',Players,'all around the globe')\n",
    "print ('At this moment',Players_playing_at_this_moment,'are playing the game')\n",
    "print ('There are',Available_spaces_to_play,'free places for new players')\n",
    "print ('We still have',Games_in_stock,'in the storage')\n",
    "print ('we have already sold',Sold_games,)\n",
    "print ('luckly we still have some free passes to share the existance of the game',Free_passes,)"
   ]
  },
  {
   "cell_type": "markdown",
   "metadata": {},
   "source": [
    "# Excercise 5"
   ]
  },
  {
   "cell_type": "markdown",
   "metadata": {},
   "source": [
    "As we can see there are a lot of ways to declarate a variable and to call it when we need it, using this tool we can save a lot of time and ensure that other more important parts are correct. "
   ]
  },
  {
   "cell_type": "code",
   "execution_count": 43,
   "metadata": {},
   "outputs": [
    {
     "name": "stdout",
     "output_type": "stream",
     "text": [
      "Hi,my name is Roberto.\n",
      "I am 19.\n",
      "My Birthday is on 11/01.\n",
      "My favorite colors are red,blue,black,yellow.\n",
      "I love pizza and hamburgers.\n",
      "My Measure is 1.78.\n"
     ]
    }
   ],
   "source": [
    "# Let´s talk about me!!!\n",
    "Name = 'Roberto' \n",
    "Age ='19'\n",
    "Birthday ='11/01'\n",
    "Favorite_colors ='red,blue,black,yellow'\n",
    "Favorite_food ='pizza and hamburgers'\n",
    "Tall ='1.78' #in m\n",
    "\n",
    "print (f\"Hi,my name is {Name}.\")\n",
    "print (f\"I am {Age}.\")\n",
    "print (f\"My Birthday is on {Birthday}.\")\n",
    "print (f\"My favorite colors are {Favorite_colors}.\")\n",
    "print (f\"I love {Favorite_food}.\")\n",
    "print (f\"My Measure is {Tall}.\")\n",
    "\n"
   ]
  },
  {
   "cell_type": "markdown",
   "metadata": {},
   "source": [
    "# Excercise 6"
   ]
  },
  {
   "cell_type": "markdown",
   "metadata": {},
   "source": [
    "With this excercise we can see what we can do with some variables that contains some complex strings. At the end the result is someting easy, but we used string variables."
   ]
  },
  {
   "cell_type": "code",
   "execution_count": 6,
   "metadata": {},
   "outputs": [
    {
     "name": "stdout",
     "output_type": "stream",
     "text": [
      "I'll tell you 1 joke.\n",
      "What does a baby computer call his father?\n",
      "Data!\n",
      "I said: 'I'll tell you 1 joke.'\n",
      "I also said 'What does a baby computer call his father?'\n",
      "And I also said 'Data!'\n",
      "That was a funny joke, isn't it? False\n",
      "I'm sorry for... This bad joke.\n"
     ]
    }
   ],
   "source": [
    "joke = 1\n",
    "x = f\"I'll tell you {joke} joke.\"\n",
    "\n",
    "bc = \"baby computer\"\n",
    "dt = \"Data!\"\n",
    "y = f\"What does a {bc} call his father?\"\n",
    "z = f\"{dt}\"\n",
    "\n",
    "print(x)\n",
    "print(y)\n",
    "print(z)\n",
    "\n",
    "print(f\"I said: '{x}'\")\n",
    "print(f\"I also said '{y}'\")\n",
    "print(f\"And I also said '{z}'\")\n",
    "\n",
    "hilarious = False\n",
    "\n",
    "joke_ev = \"That was a funny joke, isn't it? {}\"\n",
    "\n",
    "print(joke_ev.format(hilarious))\n",
    "\n",
    "i = \"I'm sorry for... \"\n",
    "d = \"This bad joke.\"\n",
    "\n",
    "print(i + d)"
   ]
  },
  {
   "cell_type": "markdown",
   "metadata": {},
   "source": [
    "# Excercise 7"
   ]
  },
  {
   "cell_type": "markdown",
   "metadata": {},
   "source": [
    "This is simply another excercise using the function <i>\"print\"</i> and the string variables to do another stuff"
   ]
  },
  {
   "cell_type": "code",
   "execution_count": 10,
   "metadata": {},
   "outputs": [
    {
     "name": "stdout",
     "output_type": "stream",
     "text": [
      "Your hair is winter fire,\n",
      "January embers,\n",
      "My heart burns there too\n",
      "..........\n",
      "Ben \n",
      "Hanscom\n"
     ]
    }
   ],
   "source": [
    "print(\"Your hair is winter {},\".format('fire'))\n",
    "print(\"January embers,\")\n",
    "print(\"My heart burns there too\")\n",
    "print(\".\" * 10)\n",
    "\n",
    "x1 = \"B\"\n",
    "x2 = \"e\"\n",
    "x3 = \"n\"\n",
    "x4 = \"H\"\n",
    "x5 = \"a\"\n",
    "x6 = \"n\"\n",
    "x7 = \"s\"\n",
    "x8 = \"c\"\n",
    "x9 = \"o\"\n",
    "x10 = \"m\"\n",
    "\n",
    "print(x1 + x2 + x3 + ' ')\n",
    "print(x4 + x5 + x6 + x7 + x8 + x9 + x10)"
   ]
  },
  {
   "cell_type": "markdown",
   "metadata": {},
   "source": [
    "# Excercise 8"
   ]
  },
  {
   "cell_type": "markdown",
   "metadata": {},
   "source": [
    "This excercise whow us another way to print some text, but it is a little bit more complicated"
   ]
  },
  {
   "cell_type": "code",
   "execution_count": 11,
   "metadata": {},
   "outputs": [
    {
     "name": "stdout",
     "output_type": "stream",
     "text": [
      "1 2 3 4\n",
      "one two three four\n",
      "un deux trois quatre\n",
      "True False True False\n",
      "{} {} {} {} {} {} {} {} {} {} {} {} {} {} {} {}\n",
      "And I'm still standig after all this time picking up the pieces of my life without you on my mind\n"
     ]
    }
   ],
   "source": [
    "num = \"{} {} {} {}\"\n",
    "print(num.format(1, 2, 3, 4))\n",
    "print(num.format(\"one\", \"two\", \"three\", \"four\"))\n",
    "print(num.format(\"un\", \"deux\", \"trois\", \"quatre\"))\n",
    "print(num.format(True, False, True, False))\n",
    "print(num.format(num, num, num, num))\n",
    "print(num.format(\n",
    "    \"And I'm still standig\",\n",
    "    \"after all this time\",\n",
    "    \"picking up the pieces of my life\",\n",
    "    \"without you on my mind\"\n",
    "))"
   ]
  },
  {
   "cell_type": "markdown",
   "metadata": {},
   "source": [
    "# Excercice 9"
   ]
  },
  {
   "cell_type": "markdown",
   "metadata": {},
   "source": [
    "<b>Another</b> printig excercise, where we learn how to put some text in another line"
   ]
  },
  {
   "cell_type": "code",
   "execution_count": 13,
   "metadata": {},
   "outputs": [
    {
     "name": "stdout",
     "output_type": "stream",
     "text": [
      "English numbers:  One Two Three Four Five Six Seven Eight Nine Ten\n",
      "French numbers:  \n",
      "Un\n",
      "Deux\n",
      "Trois\n",
      "Quatre\n",
      "Cinq\n",
      "Six\n",
      "Sept\n",
      "Huit\n",
      "Neuf\n",
      "Dix\n",
      "\n",
      "I dunno what can I write here\n",
      "Maybe just say about this trick\n",
      "It is kinda interesting\n",
      "But I dunno how many storage it takes\n",
      "\n"
     ]
    }
   ],
   "source": [
    "En = \"One Two Three Four Five Six Seven Eight Nine Ten\"\n",
    "Fr = \"\\nUn\\nDeux\\nTrois\\nQuatre\\nCinq\\nSix\\nSept\\nHuit\\nNeuf\\nDix\"\n",
    "\n",
    "print(\"English numbers: \", En)\n",
    "print(\"French numbers: \", Fr)\n",
    "\n",
    "print(\"\"\"\n",
    "I dunno what can I write here\n",
    "Maybe just say about this trick\n",
    "It is kinda interesting\n",
    "But I dunno how many storage it takes\n",
    "\"\"\")"
   ]
  },
  {
   "cell_type": "markdown",
   "metadata": {},
   "source": [
    "# Excercice 10"
   ]
  },
  {
   "cell_type": "markdown",
   "metadata": {},
   "source": [
    "By doing this excercise we learned how to use some <i>\"commands\"</i> using \"<b>&#92;</b>\" in order to obtain certain output"
   ]
  },
  {
   "cell_type": "code",
   "execution_count": 17,
   "metadata": {},
   "outputs": [
    {
     "name": "stdout",
     "output_type": "stream",
     "text": [
      "\tI just put a \"Tab\"\n",
      "I have just c\n",
      "ut the text in two\n",
      "I dunno why will I want to use this symbol \\ lol \\\n",
      "\n",
      "This was my playlist while doing my part of the job:\n",
      "\t*Jérémy Frérot - Tu donnes\n",
      "\t*Fréro Delavega - Ton Visage\n",
      "\t*Zaz - Je veux\n",
      "\t*Stromae - papaoutai\n",
      "\t*Michael Jackson - They don't care about us\n",
      "\t*Set it off - Why worry\n",
      "\t*Taron Egerton - I'm still standing\n",
      "\t*Coolio feat. L.V. - Gangsta's paradise\n",
      "\n"
     ]
    }
   ],
   "source": [
    "tab = \"\\tI just put a \\\"Tab\\\"\"\n",
    "cut = \"I have just c\\nut the text in two\"\n",
    "backs = \"I dunno why will I want to use this symbol \\\\ lol \\\\\"\n",
    "\n",
    "play = \"\"\"\n",
    "This was my playlist while doing my part of the job:\n",
    "\\t*Jérémy Frérot - Tu donnes\\n\\t*Fréro Delavega - Ton Visage\n",
    "\\t*Zaz - Je veux\\n\\t*Stromae - papaoutai\n",
    "\\t*Michael Jackson - They don't care about us\\n\\t*Set it off - Why worry\n",
    "\\t*Taron Egerton - I'm still standing\\n\\t*Coolio feat. L.V. - Gangsta's paradise\n",
    "\"\"\"\n",
    "\n",
    "print(tab)\n",
    "print(cut)\n",
    "print(backs)\n",
    "print(play)"
   ]
  }
 ],
 "metadata": {
  "kernelspec": {
   "display_name": "Python 3",
   "language": "python",
   "name": "python3"
  },
  "language_info": {
   "codemirror_mode": {
    "name": "ipython",
    "version": 3
   },
   "file_extension": ".py",
   "mimetype": "text/x-python",
   "name": "python",
   "nbconvert_exporter": "python",
   "pygments_lexer": "ipython3",
   "version": "3.7.4"
  }
 },
 "nbformat": 4,
 "nbformat_minor": 2
}
