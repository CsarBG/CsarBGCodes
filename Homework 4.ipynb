{
 "cells": [
  {
   "cell_type": "markdown",
   "metadata": {},
   "source": [
    "# Trimmed mean"
   ]
  },
  {
   "cell_type": "code",
   "execution_count": 53,
   "metadata": {},
   "outputs": [
    {
     "name": "stdout",
     "output_type": "stream",
     "text": [
      "INSTRUCTIONS:\n",
      " Write \"Stop\" in order to stop introducing data\n",
      "\n",
      "Introduce data No. 1: 0\n",
      "Introduce data No. 2: 0\n",
      "Introduce data No. 3: 569\n",
      "Introduce data No. 4: 55\n",
      "Introduce data No. 5: 136\n",
      "Introduce data No. 6: 264\n",
      "Introduce data No. 7: 1467\n",
      "Introduce data No. 8: 12412\n",
      "Introduce data No. 9: stop\n",
      "\n",
      "What is the percentage for the trimmed mean? 25\n",
      "\n",
      "25.0% trimmed mean: 256.0\n"
     ]
    }
   ],
   "source": [
    "print(\"INSTRUCTIONS:\\n Write \\\"Stop\\\" in order to stop introducing data\\n\")\n",
    "i=0\n",
    "j=1\n",
    "num=[]\n",
    "sm=0\n",
    "while i==0:\n",
    "    x=input(f\"Introduce data No. {j}: \")\n",
    "    if x==\"Stop\" or x==\"stop\" or x==\"STOP\":\n",
    "        i=1\n",
    "    else:\n",
    "        x=int(x)\n",
    "        num.append(x)\n",
    "        j+=1\n",
    "num.sort()\n",
    "tr=float(input(\"\\nWhat is the percentage for the trimmed mean? \"))\n",
    "n=(tr/100)*j\n",
    "m = int(n)\n",
    "if 2*m>=j:\n",
    "    print(f\"\\nThere is not {tr}% trimmed mean for the sample {num}\")\n",
    "else:\n",
    "    for i in range (m,j-m-1):\n",
    "        sm+=num[i]\n",
    "    sm/=(j-(2*m)-1)\n",
    "    print(f\"\\n{tr}% trimmed mean: {sm}\")"
   ]
  }
 ],
 "metadata": {
  "kernelspec": {
   "display_name": "Python 3",
   "language": "python",
   "name": "python3"
  },
  "language_info": {
   "codemirror_mode": {
    "name": "ipython",
    "version": 3
   },
   "file_extension": ".py",
   "mimetype": "text/x-python",
   "name": "python",
   "nbconvert_exporter": "python",
   "pygments_lexer": "ipython3",
   "version": "3.7.4"
  }
 },
 "nbformat": 4,
 "nbformat_minor": 2
}
