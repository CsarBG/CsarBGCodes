{
 "cells": [
  {
   "cell_type": "markdown",
   "metadata": {},
   "source": [
    "Develop a program that calculates sample mean, mode and standard deviation based in a set of data introduced by the user.\n",
    "The program must ask what operation the user wants to calculate"
   ]
  },
  {
   "cell_type": "code",
   "execution_count": 83,
   "metadata": {},
   "outputs": [
    {
     "name": "stdout",
     "output_type": "stream",
     "text": [
      "How much data do you want to introduce? 8\n",
      "Introduce data No. 1: 1\n",
      "Introduce data No. 2: 2\n",
      "Introduce data No. 3: 3\n",
      "Introduce data No. 4: 4\n",
      "Introduce data No. 5: 1\n",
      "Introduce data No. 6: 2\n",
      "Introduce data No. 7: 3\n",
      "Introduce data No. 8: 6\n",
      "\n",
      "Select an option:\n",
      "a) Sample mean\n",
      "b) Mode\n",
      "c) Standar deviation\n",
      "\n",
      "Ans: b\n",
      "\n",
      "Mode: 1 2 3 "
     ]
    }
   ],
   "source": [
    "val=int(input(\"How much data do you want to introduce? \"))\n",
    "nume=[]\n",
    "anum=[]\n",
    "amode=[]\n",
    "pos=0\n",
    "num=0\n",
    "sm=0\n",
    "sd=0\n",
    "am=0\n",
    "for i in range (0,val):\n",
    "    x=int(input(f\"Introduce data No. {i+1}: \"))\n",
    "    nume.append(x)\n",
    "for i in range (0,val):\n",
    "    amode.append(0)\n",
    "    anum.append(0)\n",
    "print(\"\"\"\\nSelect an option:\n",
    "a) Sample mean\n",
    "b) Mode\n",
    "c) Standar deviation\n",
    "\"\"\")\n",
    "op=input(\"Ans: \")\n",
    "if op==\"B\" or op==\"b\" or op==\"B)\" or op==\"b)\":\n",
    "    pos=0\n",
    "    for i in range (0,val):\n",
    "        num=nume.count(i)\n",
    "        if num>pos:\n",
    "            pos=num\n",
    "    for i in range (0,val):\n",
    "        num=nume.count(i)\n",
    "        if num==pos and i not in amode:\n",
    "            amode.append(i)\n",
    "    if len(amode)!=len(nume):\n",
    "        print(\"\\nMode:\", end=' ')\n",
    "        am=len(amode)\n",
    "        num=len(nume)\n",
    "        for i in range (num,am):\n",
    "            print(f\"{amode[i]}\", end=' ')\n",
    "if op==\"A\" or op==\"a\" or op==\"A)\" or op==\"a)\":\n",
    "    for i in range (0,val):\n",
    "        sm+=nume[i]\n",
    "    print(f\"\\nSample mean: {sm/val}\")\n",
    "if op==\"C\" or op==\"c\" or op==\"C)\" or op==\"c)\":\n",
    "    for i in range (0,val):\n",
    "        sm+=nume[i]\n",
    "    sm/=val\n",
    "    for i in range (0,val):\n",
    "        sd=sd+(nume[i]-sm)**2\n",
    "    sd/=val\n",
    "    sd=sd**(1/2)\n",
    "    print(f\"\\nStandard deviation: {sda}\")"
   ]
  },
  {
   "cell_type": "markdown",
   "metadata": {},
   "source": []
  }
 ],
 "metadata": {
  "kernelspec": {
   "display_name": "Python 3",
   "language": "python",
   "name": "python3"
  },
  "language_info": {
   "codemirror_mode": {
    "name": "ipython",
    "version": 3
   },
   "file_extension": ".py",
   "mimetype": "text/x-python",
   "name": "python",
   "nbconvert_exporter": "python",
   "pygments_lexer": "ipython3",
   "version": "3.7.4"
  }
 },
 "nbformat": 4,
 "nbformat_minor": 2
}
